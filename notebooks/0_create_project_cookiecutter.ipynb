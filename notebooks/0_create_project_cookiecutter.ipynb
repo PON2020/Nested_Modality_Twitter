{
 "cells": [
  {
   "cell_type": "markdown",
   "metadata": {},
   "source": [
    "## 0. Create a Project Template"
   ]
  },
  {
   "cell_type": "code",
   "execution_count": null,
   "metadata": {},
   "outputs": [],
   "source": [
    "from cookiecutter.main import cookiecutter"
   ]
  },
  {
   "cell_type": "code",
   "execution_count": 2,
   "metadata": {},
   "outputs": [
    {
     "name": "stdout",
     "output_type": "stream",
     "text": [
      "You've downloaded /Users/qiuzhuang/.cookiecutters/cookiecutter-data-science before. Is it okay to delete and re-download it? [yes]: "
     ]
    },
    {
     "name": "stdin",
     "output_type": "stream",
     "text": [
      " yes\n"
     ]
    },
    {
     "name": "stdout",
     "output_type": "stream",
     "text": [
      "project_name [project_name]: "
     ]
    },
    {
     "name": "stdin",
     "output_type": "stream",
     "text": [
      " final_project_PSC290\n"
     ]
    },
    {
     "name": "stdout",
     "output_type": "stream",
     "text": [
      "repo_name [final_project_psc290]: "
     ]
    },
    {
     "name": "stdin",
     "output_type": "stream",
     "text": [
      " \n"
     ]
    },
    {
     "name": "stdout",
     "output_type": "stream",
     "text": [
      "author_name [Your name (or your organization/company/team)]: "
     ]
    },
    {
     "name": "stdin",
     "output_type": "stream",
     "text": [
      " Harvey Zhuang Qiu\n"
     ]
    },
    {
     "name": "stdout",
     "output_type": "stream",
     "text": [
      "description [A short description of the project.]: "
     ]
    },
    {
     "name": "stdin",
     "output_type": "stream",
     "text": [
      " This is a project created to fulfill the requirements of class PSC290\n"
     ]
    },
    {
     "name": "stdout",
     "output_type": "stream",
     "text": [
      "Select open_source_license:\n",
      "1 - MIT\n",
      "2 - BSD-3-Clause\n",
      "3 - No license file\n",
      "Choose from 1, 2, 3 [1]: "
     ]
    },
    {
     "name": "stdin",
     "output_type": "stream",
     "text": [
      " 1\n"
     ]
    },
    {
     "name": "stdout",
     "output_type": "stream",
     "text": [
      "s3_bucket [[OPTIONAL] your-bucket-for-syncing-data (do not include 's3://')]: "
     ]
    },
    {
     "name": "stdin",
     "output_type": "stream",
     "text": [
      " \n"
     ]
    },
    {
     "name": "stdout",
     "output_type": "stream",
     "text": [
      "aws_profile [default]: "
     ]
    },
    {
     "name": "stdin",
     "output_type": "stream",
     "text": [
      " \n"
     ]
    },
    {
     "name": "stdout",
     "output_type": "stream",
     "text": [
      "Select python_interpreter:\n",
      "1 - python3\n",
      "2 - python\n",
      "Choose from 1, 2 [1]: "
     ]
    },
    {
     "name": "stdin",
     "output_type": "stream",
     "text": [
      " 1\n"
     ]
    },
    {
     "data": {
      "text/plain": [
       "'/Users/qiuzhuang/Desktop/PSC290/code/final_project_psc290'"
      ]
     },
     "execution_count": 2,
     "metadata": {},
     "output_type": "execute_result"
    }
   ],
   "source": [
    "cookiecutter('https://github.com/drivendata/cookiecutter-data-science')"
   ]
  },
  {
   "cell_type": "code",
   "execution_count": null,
   "metadata": {},
   "outputs": [],
   "source": []
  }
 ],
 "metadata": {
  "kernelspec": {
   "display_name": "Python 3",
   "language": "python",
   "name": "python3"
  },
  "language_info": {
   "codemirror_mode": {
    "name": "ipython",
    "version": 3
   },
   "file_extension": ".py",
   "mimetype": "text/x-python",
   "name": "python",
   "nbconvert_exporter": "python",
   "pygments_lexer": "ipython3",
   "version": "3.7.6"
  }
 },
 "nbformat": 4,
 "nbformat_minor": 4
}
