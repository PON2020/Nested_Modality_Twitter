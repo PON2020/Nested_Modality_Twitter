{
 "cells": [
  {
   "cell_type": "markdown",
   "metadata": {},
   "source": [
    "## 1. Building a Corpus of Tweets"
   ]
  },
  {
   "cell_type": "markdown",
   "metadata": {},
   "source": [
    "##### The following code downloads tweets from twitter API and saves tweets as json files."
   ]
  },
  {
   "cell_type": "code",
   "execution_count": 38,
   "metadata": {},
   "outputs": [],
   "source": [
    "# import package \n",
    "\n",
    "import os\n",
    "from nltk.twitter import Twitter"
   ]
  },
  {
   "cell_type": "code",
   "execution_count": 39,
   "metadata": {},
   "outputs": [],
   "source": [
    "# set enviornment variable to the directory that contains twitter APT credientials \n",
    "\n",
    "os.environ['TWITTER'] = '/Users/qiuzhuang/twitter-files'"
   ]
  },
  {
   "cell_type": "code",
   "execution_count": 31,
   "metadata": {},
   "outputs": [],
   "source": [
    "# download tweets that contain key words from twitter database, notice:\n",
    "# 1) a single function that loops through all the key words does NOT work for this task\n",
    "# becuase the connection to twitter API will be aborted after about 30000-70000 downloads.\n",
    "# 2) due to the same reason, the number of tweets downloaded for each key words varies from\n",
    "# 35359 tweets to 71601 tweets\n",
    " "
   ]
  },
  {
   "cell_type": "code",
   "execution_count": null,
   "metadata": {},
   "outputs": [],
   "source": [
    "tw=Twitter()\n",
    "tw.tweets(keywords='definitely', stream=False, to_screen= False, limit=100000)"
   ]
  },
  {
   "cell_type": "code",
   "execution_count": null,
   "metadata": {},
   "outputs": [],
   "source": [
    "tw=Twitter()\n",
    "tw.tweets(keywords='might', stream=False, to_screen= False, limit=100000)"
   ]
  },
  {
   "cell_type": "code",
   "execution_count": null,
   "metadata": {},
   "outputs": [],
   "source": [
    "tw=Twitter()\n",
    "tw.tweets(keywords='must', stream=False, to_screen= False, limit=100000)"
   ]
  },
  {
   "cell_type": "code",
   "execution_count": null,
   "metadata": {},
   "outputs": [],
   "source": [
    "tw=Twitter()\n",
    "tw.tweets(keywords='would', stream=False, to_screen= False, limit=100000)"
   ]
  },
  {
   "cell_type": "code",
   "execution_count": null,
   "metadata": {},
   "outputs": [],
   "source": [
    "tw=Twitter()\n",
    "tw.tweets(keywords='possibly', stream=False, to_screen= False, limit=100000)"
   ]
  },
  {
   "cell_type": "code",
   "execution_count": null,
   "metadata": {},
   "outputs": [],
   "source": [
    "tw=Twitter()\n",
    "tw.tweets(keywords='probably', stream=False, to_screen= False, limit=100000)"
   ]
  },
  {
   "cell_type": "code",
   "execution_count": null,
   "metadata": {},
   "outputs": [],
   "source": [
    "tw=Twitter()\n",
    "tw.tweets(keywords='certainly', stream=False, to_screen= False, limit=100000)"
   ]
  },
  {
   "cell_type": "code",
   "execution_count": null,
   "metadata": {},
   "outputs": [],
   "source": [
    "tw=Twitter()\n",
    "tw.tweets(keywords='may', stream=False, to_screen= False, limit=100000)"
   ]
  },
  {
   "cell_type": "code",
   "execution_count": null,
   "metadata": {},
   "outputs": [],
   "source": [
    "# manually rename the json files as 'keyword.json', such as 'may.json', 'certainly.json', etc."
   ]
  }
 ],
 "metadata": {
  "kernelspec": {
   "display_name": "Python 3",
   "language": "python",
   "name": "python3"
  },
  "language_info": {
   "codemirror_mode": {
    "name": "ipython",
    "version": 3
   },
   "file_extension": ".py",
   "mimetype": "text/x-python",
   "name": "python",
   "nbconvert_exporter": "python",
   "pygments_lexer": "ipython3",
   "version": "3.7.6"
  }
 },
 "nbformat": 4,
 "nbformat_minor": 4
}
