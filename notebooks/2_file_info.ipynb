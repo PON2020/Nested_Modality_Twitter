{
 "cells": [
  {
   "cell_type": "markdown",
   "metadata": {},
   "source": [
    "## 2. View File Information"
   ]
  },
  {
   "cell_type": "markdown",
   "metadata": {},
   "source": [
    "##### The following code loads the twitter json files and returns the number of tweets and the size (in MB) for each file.\n",
    "##### The code also calculates the total number of tweets and the overall size of the files "
   ]
  },
  {
   "cell_type": "code",
   "execution_count": 3,
   "metadata": {},
   "outputs": [],
   "source": [
    "# import packages\n",
    "\n",
    "import os\n",
    "import json\n",
    "\n",
    "# define a function that creates the path of the file based on the input keyword\n",
    "\n",
    "def get_file_name (keyword):\n",
    "    folder_name = '/Users/qiuzhuang/Desktop/final_project_psc290/data/raw/'\n",
    "    file_type = '.json'\n",
    "    return folder_name+keyword+file_type\n",
    "\n",
    "# define a function that calcaulates the size of the file in MB\n",
    "\n",
    "def get_size(filename):\n",
    "    status = os.stat(filename)\n",
    "    size = status.st_size\n",
    "    size_in_mb = size/(1024*1024) \n",
    "    return size_in_mb\n",
    "\n",
    "# define a function that counts the number of tweets in the file\n",
    "\n",
    "def get_number_of_tweets(filename):  \n",
    "    tweets = []\n",
    "    for line in open(filename, 'r'):\n",
    "        tweets.append(json.loads(line))\n",
    "    return len(tweets)"
   ]
  },
  {
   "cell_type": "code",
   "execution_count": 4,
   "metadata": {},
   "outputs": [
    {
     "name": "stdout",
     "output_type": "stream",
     "text": [
      "The size of the file named \" definitely.json \" is 244.18013286590576 MB. \n",
      " This file has 54000 tweets that contain the word \" definitely \" .\n",
      "The size of the file named \" might.json \" is 169.35168361663818 MB. \n",
      " This file has 36000 tweets that contain the word \" might \" .\n",
      "The size of the file named \" must.json \" is 273.0175724029541 MB. \n",
      " This file has 53997 tweets that contain the word \" must \" .\n",
      "The size of the file named \" would.json \" is 165.42017459869385 MB. \n",
      " This file has 36000 tweets that contain the word \" would \" .\n",
      "The size of the file named \" possibly.json \" is 338.21814155578613 MB. \n",
      " This file has 71999 tweets that contain the word \" possibly \" .\n",
      "The size of the file named \" probably.json \" is 297.2478485107422 MB. \n",
      " This file has 71998 tweets that contain the word \" probably \" .\n",
      "The size of the file named \" certainly.json \" is 246.63820838928223 MB. \n",
      " This file has 54000 tweets that contain the word \" certainly \" .\n",
      "The size of the file named \" may.json \" is 182.98917293548584 MB. \n",
      " This file has 35992 tweets that contain the word \" may \" .\n",
      "The total number of tweets is 413986 and the overall size of the files is 1917.0629348754883 MB\n"
     ]
    }
   ],
   "source": [
    "# define variables that hold keywords in order to create directory for individual json file\n",
    "\n",
    "keyword_list = ['definitely','might','must','would','possibly','probably','certainly','may']\n",
    "file_type = '.json'\n",
    "\n",
    "# define variables that counts total number of tweets and the overall size of the files \n",
    "\n",
    "count_tweet = 0\n",
    "count_size = 0\n",
    "\n",
    "# loop through the keywords to calculate the number of tweets and the size (in MB) for each file. \n",
    "\n",
    "for keyword in keyword_list:\n",
    "    file_name = get_file_name(keyword)\n",
    "    number_of_tweets = get_number_of_tweets(file_name)\n",
    "    size= get_size(file_name)\n",
    "    count_tweet = count_tweet + number_of_tweets\n",
    "    count_size = count_size + size\n",
    "    print ('The size of the file named','\"',keyword+file_type,'\"','is', size,\n",
    "          'MB.','\\n','This file has',number_of_tweets,'tweets that contain the word',\n",
    "           '\"', keyword,'\"', '.')\n",
    "    \n",
    "print ('The total number of tweets is',count_tweet,'and the overall size of the files is',count_size,'MB')"
   ]
  },
  {
   "cell_type": "code",
   "execution_count": null,
   "metadata": {},
   "outputs": [],
   "source": []
  }
 ],
 "metadata": {
  "kernelspec": {
   "display_name": "Python 3",
   "language": "python",
   "name": "python3"
  },
  "language_info": {
   "codemirror_mode": {
    "name": "ipython",
    "version": 3
   },
   "file_extension": ".py",
   "mimetype": "text/x-python",
   "name": "python",
   "nbconvert_exporter": "python",
   "pygments_lexer": "ipython3",
   "version": "3.7.6"
  }
 },
 "nbformat": 4,
 "nbformat_minor": 4
}
