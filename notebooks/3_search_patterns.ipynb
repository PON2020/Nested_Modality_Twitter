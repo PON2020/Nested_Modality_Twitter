{
 "cells": [
  {
   "cell_type": "markdown",
   "metadata": {},
   "source": [
    "## 3. Data Analysis: Search for Patterns\n",
    "    "
   ]
  },
  {
   "cell_type": "markdown",
   "metadata": {},
   "source": [
    "##### The code in this notebook analyzes the corpus and provides answers to some of the research questions in the proposal."
   ]
  },
  {
   "cell_type": "markdown",
   "metadata": {},
   "source": [
    "\n",
    "\n",
    "\n"
   ]
  },
  {
   "cell_type": "markdown",
   "metadata": {},
   "source": [
    "### Preparation: load all the tweets in a big list"
   ]
  },
  {
   "cell_type": "code",
   "execution_count": 1,
   "metadata": {},
   "outputs": [],
   "source": [
    "# import packages\n",
    "\n",
    "import os\n",
    "import json\n",
    "import matplotlib.pyplot as plt\n",
    "\n",
    "# define a function that creates the path of the file based on the input keyword\n",
    "\n",
    "def get_file_name (keyword):\n",
    "    folder_name = '/Users/qiuzhuang/Desktop/final_project_psc290/data/raw/'\n",
    "    file_type = '.json'\n",
    "    return folder_name+keyword+file_type\n",
    "\n",
    "# define a function that counts the number of tweets in the file\n",
    "\n",
    "def get_number_of_tweets(filename):  \n",
    "    tweets = []\n",
    "    for line in open(filename, 'r'):\n",
    "        tweets.append(json.loads(line))\n",
    "    return len(tweets)\n",
    "\n",
    "# define a variable that holds keywords\n",
    "\n",
    "keyword_list = ['definitely','might','must','would','possibly','probably','certainly','may']"
   ]
  },
  {
   "cell_type": "code",
   "execution_count": 2,
   "metadata": {},
   "outputs": [
    {
     "name": "stdout",
     "output_type": "stream",
     "text": [
      "Tweets in ' definitely.json ' have been loaded.\n",
      "Tweets in ' might.json ' have been loaded.\n",
      "Tweets in ' must.json ' have been loaded.\n",
      "Tweets in ' would.json ' have been loaded.\n",
      "Tweets in ' possibly.json ' have been loaded.\n",
      "Tweets in ' probably.json ' have been loaded.\n",
      "Tweets in ' certainly.json ' have been loaded.\n",
      "Tweets in ' may.json ' have been loaded.\n",
      "Loading completed. Superlist is ready to use!\n"
     ]
    }
   ],
   "source": [
    "# define an empty list called 'superlist', which will store all the tweets from the json files\n",
    "superlist=[]\n",
    "# for each of the json file, load the tweets in a list\n",
    "for keyword in keyword_list:\n",
    "    tweets = []\n",
    "    file_name = get_file_name(keyword)\n",
    "    for line in open(file_name, 'r'):\n",
    "        tweets.append(json.loads(line))\n",
    "# store the tweets in the superlist\n",
    "    for item in tweets:\n",
    "        item=item['text']\n",
    "        superlist.append(item)\n",
    "    print(\"Tweets in '\",keyword+'.json',\"' have been loaded.\")\n",
    "print ('Loading completed. Superlist is ready to use!')"
   ]
  },
  {
   "cell_type": "markdown",
   "metadata": {},
   "source": [
    "### Preparation: define lists of patterns that will be searched in the corpus"
   ]
  },
  {
   "cell_type": "code",
   "execution_count": 3,
   "metadata": {},
   "outputs": [
    {
     "name": "stdout",
     "output_type": "stream",
     "text": [
      "pattern_list:\n",
      " ['certainly may', 'may certainly', 'certainly might', 'might certainly', 'certainly must', 'must certainly', 'certainly would', 'would certainly', 'definitely may', 'may definitely', 'definitely might', 'might definitely', 'definitely must', 'must definitely', 'definitely would', 'would definitely', 'possibly may', 'may possibly', 'possibly might', 'might possibly', 'possibly must', 'must possibly', 'possibly would', 'would possibly', 'probably may', 'may probably', 'probably might', 'might probably', 'probably must', 'must probably', 'probably would', 'would probably'] \n",
      " adv_aux_list:\n",
      " ['certainly may', 'certainly might', 'certainly must', 'certainly would', 'definitely may', 'definitely might', 'definitely must', 'definitely would', 'possibly may', 'possibly might', 'possibly must', 'possibly would', 'probably may', 'probably might', 'probably must', 'probably would'] \n",
      " aux_adv_list:\n",
      " ['may certainly', 'might certainly', 'must certainly', 'would certainly', 'may definitely', 'might definitely', 'must definitely', 'would definitely', 'may possibly', 'might possibly', 'must possibly', 'would possibly', 'may probably', 'might probably', 'must probably', 'would probably']\n"
     ]
    }
   ],
   "source": [
    "# define two lists of keywords based on the part of speech, which will be used to generate different combination patterns.\n",
    "\n",
    "Adverb =['certainly','definitely','possibly','probably']\n",
    "Auxiliary=['may','might','must','would']\n",
    "\n",
    "# this list stores all possible combinations of adverb and auxiliary pairs\n",
    "pattern_list=[]\n",
    "\n",
    "# this list stores 'adverb auxiliary' pairs\n",
    "adv_aux_list=[]\n",
    "\n",
    "# this list stores 'auxiliary adverb' pairs\n",
    "aux_adv_list=[]\n",
    "for adv in Adverb:\n",
    "    for aux in Auxiliary:      \n",
    "        adv_aux = adv+' '+aux\n",
    "        aux_adv = aux+' '+adv\n",
    "        pattern_list.append(adv_aux)\n",
    "        pattern_list.append(aux_adv)\n",
    "        adv_aux_list.append (adv_aux)\n",
    "        aux_adv_list.append(aux_adv)\n",
    "print ('pattern_list:\\n',pattern_list,'\\n','adv_aux_list:\\n',\n",
    "       adv_aux_list,'\\n','aux_adv_list:\\n',aux_adv_list)"
   ]
  },
  {
   "cell_type": "markdown",
   "metadata": {},
   "source": [
    "### Research Question 1: How many different types of nested epistemic modals exist in English?"
   ]
  },
  {
   "cell_type": "code",
   "execution_count": 4,
   "metadata": {},
   "outputs": [],
   "source": [
    "# define a function that matches a list of patterns in a list of texts\n",
    "def search_pattern(my_list,my_pattern):\n",
    "# delete repeated items in the list\n",
    "    my_list = set (my_list)\n",
    "# define a dictionary, which will store the pattern and its frequency\n",
    "    pattern_summary={}\n",
    "    for pattern in my_pattern:\n",
    "        matching = [s for s in my_list if pattern in s.lower()]     \n",
    "        pattern_summary.update({pattern: len(matching)})\n",
    "    return pattern_summary"
   ]
  },
  {
   "cell_type": "code",
   "execution_count": 6,
   "metadata": {},
   "outputs": [],
   "source": [
    "# search for all possible combinations of adverb and auxiliary pairs in the superlist\n",
    "mypattern = search_pattern (superlist,pattern_list)"
   ]
  },
  {
   "cell_type": "code",
   "execution_count": 7,
   "metadata": {},
   "outputs": [],
   "source": [
    "# define a function that plot the pattern_summary dictionary using a bar plot. \n",
    "def patten_summary_plot(pattern_summary,title_string):\n",
    "    label= list(pattern_summary.keys())\n",
    "    frequency= list(pattern_summary.values())\n",
    "    fig,ax= plt.subplots(figsize=(25,5))\n",
    "    ax.bar(label,frequency)\n",
    "    ax.set_xticklabels(label,rotation=90, size=15)\n",
    "    plt.grid(color='grey', linestyle='-',axis='y', linewidth=0.9)\n",
    "    plt.ylabel('frequency',size=15)\n",
    "    plt.title(title_string,size= 18)   "
   ]
  },
  {
   "cell_type": "code",
   "execution_count": 8,
   "metadata": {},
   "outputs": [
    {
     "data": {
      "image/png": "[encoded data removed]",
      "text/plain": [
       "<Figure size 1800x360 with 1 Axes>"
      ]
     },
     "metadata": {
      "needs_background": "light"
     },
     "output_type": "display_data"
    }
   ],
   "source": [
    "# plot the frequency of all possible combinations of adverb and auxiliary pairs\n",
    "patten_summary_plot(mypattern,'The frequency of each nested epistemic modal combination in the corpus')\n",
    "# Save the plot\n",
    "plt.savefig('frequency_plot_for_all_patterns.png',bbox_inches='tight')"
   ]
  },
  {
   "cell_type": "markdown",
   "metadata": {},
   "source": [
    "##### The nested modal combinations that contain the word 'would' are way more frequent than the other modal combinations.\n",
    "##### The next step is to take a look at the tweets that contain those modal combinations and see what is going on."
   ]
  },
  {
   "cell_type": "code",
   "execution_count": 9,
   "metadata": {},
   "outputs": [],
   "source": [
    "# write a function that search and print matched tweets\n",
    "def print_pattern(my_list,my_pattern,number_of_print):\n",
    "    my_list = set (my_list)\n",
    "    for pattern in my_pattern:\n",
    "        matching = [s for s in my_list if pattern in s.lower()]\n",
    "        print_list= matching[0:number_of_print]\n",
    "        if number_of_print<= len(matching):            \n",
    "            print (number_of_print,'tweets that contain \"',pattern,'\":\\n')\n",
    "            for tweet in print_list:\n",
    "                print(tweet,'\\n')\n",
    "        else:\n",
    "            print ('The number of tweets that contain \"',pattern,'\" is less than',number_of_print,'.\\n')\n",
    "    print('Printing completed.')"
   ]
  },
  {
   "cell_type": "code",
   "execution_count": 10,
   "metadata": {},
   "outputs": [
    {
     "name": "stdout",
     "output_type": "stream",
     "text": [
      "5 tweets that contain \" certainly would \":\n",
      "\n",
      "@AndrewC48796677 @muggedbyBrexit @davewgcook @johnredwood I certainly wouldn’t drive to Durham either if my house was on fire you muppet \n",
      "\n",
      "@AbiWilks @novaramedia The UK certainly wouldn't be the country with the second highest deaths to covid-19 if Corby… https://t.co/2esPyUOxy0 \n",
      "\n",
      "@RangiferBirota @ailsybabe @Rachael2Win @STVNews Well you certainly wouldn't get complaints about videos praising t… https://t.co/f43hsJuCEj \n",
      "\n",
      "We accidentally bought ourselves a dutch oven for Christmas, and without that I almost certainly would not have gon… https://t.co/UbdqE9ZH7D \n",
      "\n",
      "RT @JacobPeoplee: #DailyBriefing if i was a parent i mostly certainly wouldn't be sending my kid back to school. Its not only dangerous, it… \n",
      "\n",
      "5 tweets that contain \" definitely would \":\n",
      "\n",
      "@Legacyyy___ @selimosalsa @omgisthatjp @RSGLORYANDGOLD Oh yeah I definitely wouldn't be okay with that, but Tony op… https://t.co/XWdKDuzw82 \n",
      "\n",
      "@Missamanda77 @PlutoniumSox Would say they're a bit more 8 / 9 + tbh?Definitely wouldn't expect many 6yo to be read… https://t.co/NZ2VjNLkak \n",
      "\n",
      "@kassia_shimura *YELLS* KARASUNO SHOULD HAVE LOST ALL THESE MATCHES! 🤣 \n",
      "\n",
      "I definitely would’ve loved to see all the… https://t.co/oVT8MkTzEe \n",
      "\n",
      "@safe_secs @chadloder Not only wouldn't I, I definitely wouldn't back up and go again. That would be wrong. \n",
      "\n",
      "@bigdaddyyyeb No they not , they definitely would be a decent couple if he wasn’t a cheater . But 🤷🏾‍♀️ \n",
      "\n",
      "5 tweets that contain \" would probably \":\n",
      "\n",
      "14. hector i dont like his vibes he would probably say slurs https://t.co/hhrW1h8h45 \n",
      "\n",
      "@EPoleczka @SMasterpigman @DaRealMiniToon He would probably steal that too \n",
      "\n",
      "@JackmoveJohnny To be honest you should do a jiggy weight loss series that would probably bring in more outside vie… https://t.co/Ar6F1Vs1NB \n",
      "\n",
      "Can’t stop thinking about this and how I would probably, mmm no, definitely immediately sneeze at least fifty times… https://t.co/UQw8cm96JW \n",
      "\n",
      "anyways gusto ko lang sabihin na the rose’s woosung has the sexiest voice i would probably marry it tbh cant believ… https://t.co/y6qwBkJpIj \n",
      "\n",
      "Printing completed.\n"
     ]
    }
   ],
   "source": [
    "# define a list of nested modal combibations that contain the word 'would'\n",
    "list_of_would=['certainly would','definitely would','would probably']\n",
    "# search patterns in the superlist and print tweets\n",
    "print_pattern(superlist,list_of_would,5)"
   ]
  },
  {
   "cell_type": "markdown",
   "metadata": {},
   "source": [
    "###### \n",
    "#### Observation:\n",
    "###### \n",
    "##### In some of those cases, the word 'would' is not used as a typical epistemic modal. Epistemic modals are the words that express the probability of \n",
    "\n",
    "##### something being true, such as the word 'might' in 'it might rain tomorrow'. The word 'would' in some of the above examples does not mean 'probability'. \n",
    "\n",
    "##### Rather, it means one's willingness to do something with regard to obligation or principles, such as 'If you give people a legal way to avoid tax, they will use it. \n",
    "\n",
    "##### I certainly would.' However, in the above list, there are many cases in which the world 'would' is used as an epistemic modal, such as 'I think Hendrick and JGR \n",
    "\n",
    "##### would probably be two top candidates for Jones.' \n",
    "###### \n",
    "\n",
    "##### In this corpus, there isn't any tweet that contains 'might certainly', or 'must possibly', and except from this, pretty much all possible combinations of nested \n",
    "##### modals have been found. \n",
    " "
   ]
  },
  {
   "cell_type": "markdown",
   "metadata": {},
   "source": [
    "### Research Question 2: What kind of nested epistemic modals is more frequent, harmonic or non-harmonic one?"
   ]
  },
  {
   "cell_type": "code",
   "execution_count": 13,
   "metadata": {},
   "outputs": [],
   "source": [
    "# define a list that contains harmonic nested epistemic modals and a list of non-harmonic nested modals\n",
    "list_harmonic=['certainly must','must certainly','definitely must','must definitely',\n",
    "              'possibly may','may possibly','possibly might','might possibly','probably would','would probably']\n",
    "list_non_harmonic=['certainly may','may certainly','certainly might','might certainly','certainly would','would certainly',\n",
    "                  'definitely may','may definitely','definitely might','might definitely','definitely would','would definitely',\n",
    "                  'possibly must','must possibly', 'possibly would','would possibly','probably may','may probably','probably might',\n",
    "                   'might probably', 'probably must','must probably']"
   ]
  },
  {
   "cell_type": "code",
   "execution_count": 14,
   "metadata": {},
   "outputs": [],
   "source": [
    "# count the frequency of harmonic patterns and non_harmonic patterns\n",
    "harmonic= search_pattern (superlist,list_harmonic)\n",
    "non_harmonic= search_pattern (superlist,list_non_harmonic)"
   ]
  },
  {
   "cell_type": "code",
   "execution_count": 15,
   "metadata": {},
   "outputs": [],
   "source": [
    "# search_pattern function will return a dictionary\n",
    "# write a function that will calculate the total frequency of all the keys in the dictonary\n",
    "def dic_sum (my_dictonary):\n",
    "    count=0\n",
    "    for value in my_dictonary.values():\n",
    "        count = count + value\n",
    "    return count"
   ]
  },
  {
   "cell_type": "code",
   "execution_count": 16,
   "metadata": {},
   "outputs": [
    {
     "name": "stdout",
     "output_type": "stream",
     "text": [
      "The total number of harmonic nested epistemic modals: 2126\n",
      "The total number of non-harmonic nested epistemic modals: 2145\n"
     ]
    }
   ],
   "source": [
    "# compare the total number of harmonic nested epistemic modals and non-harmonic nested modals\n",
    "print('The total number of harmonic nested epistemic modals:', dic_sum(harmonic))\n",
    "print('The total number of non-harmonic nested epistemic modals:',dic_sum(non_harmonic))"
   ]
  },
  {
   "cell_type": "markdown",
   "metadata": {},
   "source": [
    "###### \n",
    "#### Observation:\n",
    "###### \n",
    "##### The total number of non-harmonic nested epistemic modals is slightly larger than the total number of harmonic nested epistemic modals.\n",
    "\n",
    "##### However, such a small difference is very unlikely to be significant. Moreover, as we can see from the above code, there are more\n",
    "\n",
    "##### types of non-harmonic nested epistemic modals than harmonic nested epistemic modals (almost twice as many). That means on average, \n",
    "\n",
    "##### there are more 'token' for each type of harmonic nested epistemic modals compared to non-harmonic ones\n",
    "\n",
    "##### "
   ]
  },
  {
   "cell_type": "markdown",
   "metadata": {},
   "source": [
    "### Research Question 3: For non-harmonic nested episteic modals, in general, do people prefer to mention the word expressing higher probabilty first or the word expressing lower probabilty first?"
   ]
  },
  {
   "cell_type": "code",
   "execution_count": 20,
   "metadata": {},
   "outputs": [],
   "source": [
    "# define a list that contains nested epistemic expressions with higher probability preceding lower probability,\n",
    "# and also define a list that contains nested epistemic expressions with lower probability preceding higher probability\n",
    "list_high_low=['certainly may','certainly might','certainly would','definitely may','definitely might','definitely would',\n",
    "              'must possibly','would possibly','probably may','probably might','must probably']\n",
    "\n",
    "list_low_high=['may certainly','might certainly','would certainly','may definitely','might definitely','would definitely',\n",
    "              'possibly must','possibly would','may probably','might probably','probably must']"
   ]
  },
  {
   "cell_type": "code",
   "execution_count": 21,
   "metadata": {},
   "outputs": [],
   "source": [
    "# count the frequency of high-low patterns and low-high patterns\n",
    "high_low = search_pattern (superlist,list_high_low)\n",
    "\n",
    "low_high = search_pattern (superlist,list_low_high)"
   ]
  },
  {
   "cell_type": "code",
   "execution_count": 22,
   "metadata": {},
   "outputs": [
    {
     "name": "stdout",
     "output_type": "stream",
     "text": [
      "The total number of high-low nested epistemic modals: 932\n",
      "The total number of low-high nested epistemic modals: 1213\n"
     ]
    }
   ],
   "source": [
    "# compare the total number of high-low nested epistemic modals and low-high nested modals\n",
    "print('The total number of high-low nested epistemic modals:', dic_sum(high_low))\n",
    "\n",
    "print('The total number of low-high nested epistemic modals:',dic_sum(low_high))"
   ]
  },
  {
   "cell_type": "code",
   "execution_count": 23,
   "metadata": {},
   "outputs": [
    {
     "data": {
      "text/plain": [
       "True"
      ]
     },
     "execution_count": 23,
     "metadata": {},
     "output_type": "execute_result"
    }
   ],
   "source": [
    "# sanity check: high-low nested epistemic modals + low-high nested epistemic modals = total number of non-harmonic nested epistemic modals\n",
    "932 + 1213 == 2145"
   ]
  },
  {
   "cell_type": "markdown",
   "metadata": {},
   "source": [
    "###### \n",
    "#### Observation:\n",
    "###### \n",
    "##### Among non-harmonic nested epistemic modals, the total number of low-high nested epistemic modals is larger than the total number of high-low nested epistemic modals.\n",
    "\n",
    "##### Since the number of low-high types and the number of high-low types are equal, it may be the case that for non-harmonic nested epistemic modals, people prefer to mention \n",
    "\n",
    "##### the word expressing lower probabilty first, which means, people may prefer 'possibly must' to 'must possibly', and prefer 'would certainly' to 'certainly would'.\n",
    "### "
   ]
  },
  {
   "cell_type": "markdown",
   "metadata": {},
   "source": [
    "### Research Question 4: For nested episteic modals, in general, do people prefer to mention modal auxiliary first or modal adverb first?"
   ]
  },
  {
   "cell_type": "code",
   "execution_count": 25,
   "metadata": {},
   "outputs": [
    {
     "name": "stdout",
     "output_type": "stream",
     "text": [
      "['certainly may', 'certainly might', 'certainly must', 'certainly would', 'definitely may', 'definitely might', 'definitely must', 'definitely would', 'possibly may', 'possibly might', 'possibly must', 'possibly would', 'probably may', 'probably might', 'probably must', 'probably would']\n",
      "['may certainly', 'might certainly', 'must certainly', 'would certainly', 'may definitely', 'might definitely', 'must definitely', 'would definitely', 'may possibly', 'might possibly', 'must possibly', 'would possibly', 'may probably', 'might probably', 'must probably', 'would probably']\n"
     ]
    }
   ],
   "source": [
    "# define a list that contains all 'adverb-auxiliary' types of nested epistemic modals and a list containing the 'auxiliary-adverb' types\n",
    "# we have already done it.\n",
    "print (adv_aux_list)\n",
    "print (aux_adv_list)"
   ]
  },
  {
   "cell_type": "code",
   "execution_count": 26,
   "metadata": {},
   "outputs": [],
   "source": [
    "# In the corpus (superlist), count the frequency of adverb-auxiliary patterns and auxiliary-adverb patterns\n",
    "adv_aux = search_pattern (superlist, adv_aux_list)\n",
    "aux_adv = search_pattern (superlist,aux_adv_list)"
   ]
  },
  {
   "cell_type": "code",
   "execution_count": 27,
   "metadata": {},
   "outputs": [
    {
     "name": "stdout",
     "output_type": "stream",
     "text": [
      "The total number of adverb-auxiliary nested epistemic modals: 1678\n",
      "The total number of auxiliary-adverb nested epistemic modals: 2593\n"
     ]
    }
   ],
   "source": [
    "# compare the total number of adverb-auxiliary nested epistemic modals and auxiliary-adverb nested modals\n",
    "print('The total number of adverb-auxiliary nested epistemic modals:', dic_sum(adv_aux))\n",
    "print('The total number of auxiliary-adverb nested epistemic modals:',dic_sum(aux_adv))"
   ]
  },
  {
   "cell_type": "code",
   "execution_count": 28,
   "metadata": {},
   "outputs": [
    {
     "data": {
      "text/plain": [
       "True"
      ]
     },
     "execution_count": 28,
     "metadata": {},
     "output_type": "execute_result"
    }
   ],
   "source": [
    "# sanity check: adverb-auxiliary nested epistemic modals + auxiliary-adverb nested epistemic modals =\n",
    "# harmonic nested epistemic modals + non-harmonic nested epistemic modals\n",
    "1678 + 2593 == 2126 + 2145"
   ]
  },
  {
   "cell_type": "markdown",
   "metadata": {},
   "source": [
    "###### \n",
    "#### Observation:\n",
    "###### \n",
    "##### In this corpus, the total number of auxiliary-adverb nested epistemic modals is larger than the total number of adverb-auxiliary nested epistemic modals.\n",
    "\n",
    "##### Since the number of auxiliary-adverb types and the number of adverb-auxiliary types are equal, it may be the case that people prefer to mention modal auxiliary first.\n",
    "\n",
    "##### That means, people prefer 'may possibly' to 'possibly may', and prefer 'would certainly' to 'certainly would'.\n",
    "### "
   ]
  },
  {
   "cell_type": "code",
   "execution_count": null,
   "metadata": {},
   "outputs": [],
   "source": []
  }
 ],
 "metadata": {
  "kernelspec": {
   "display_name": "Python 3",
   "language": "python",
   "name": "python3"
  },
  "language_info": {
   "codemirror_mode": {
    "name": "ipython",
    "version": 3
   },
   "file_extension": ".py",
   "mimetype": "text/x-python",
   "name": "python",
   "nbconvert_exporter": "python",
   "pygments_lexer": "ipython3",
   "version": "3.7.6"
  }
 },
 "nbformat": 4,
 "nbformat_minor": 4
}
