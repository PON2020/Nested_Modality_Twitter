{
 "cells": [
  {
   "cell_type": "markdown",
   "metadata": {},
   "source": [
    "## 4. Design a New Class"
   ]
  },
  {
   "cell_type": "markdown",
   "metadata": {},
   "source": [
    "##### The code in this notebook designs a new class called 'Corpus', and then explores my data using the new class."
   ]
  },
  {
   "cell_type": "code",
   "execution_count": 1,
   "metadata": {},
   "outputs": [],
   "source": [
    "# import packages\n",
    "import os\n",
    "import json"
   ]
  },
  {
   "cell_type": "code",
   "execution_count": 2,
   "metadata": {},
   "outputs": [],
   "source": [
    "\n",
    "class Corpus():\n",
    "    \n",
    "    def __init__(self, keyword):\n",
    "        self.folder_name = '/Users/qiuzhuang/Desktop/final_project_psc290/data/raw/'\n",
    "        self.file_type = '.json'\n",
    "        self.file_name = self.folder_name + keyword+ self.file_type\n",
    "        self.mytext = None\n",
    "        self.match = None\n",
    "        \n",
    "# The size() function returns the size of the corpus in MB.     \n",
    "\n",
    "    def size (self):\n",
    "        status = os.stat(self.file_name)\n",
    "        size = status.st_size\n",
    "        size_in_mb = size/(1024*1024)\n",
    "        print('The size of the file is',size_in_mb,'MB.')\n",
    "\n",
    "# The get_text() function reads in all the tweets in the file as a list\n",
    "\n",
    "    def get_text (self):\n",
    "        tweets = []\n",
    "        for line in open(self.file_name, 'r'):\n",
    "            tweets.append(json.loads(line)) \n",
    "        tweet_text= []\n",
    "        for item in tweets:\n",
    "            item=item['text']\n",
    "            tweet_text.append(item)\n",
    "        self.mytext = list(set(tweet_text))\n",
    "        print('Texts are loaded for your analysis. You can access texts using the attribute \"mytext\".')\n",
    "        \n",
    "# the search_pattern() function searches pattern in the corpus and returns the matches in a list\n",
    "    def search_pattern(self,pattern):\n",
    "        tweets = []\n",
    "        for line in open(self.file_name, 'r'):\n",
    "            tweets.append(json.loads(line)) \n",
    "        tweet_text= []\n",
    "        for item in tweets:\n",
    "            item=item['text']\n",
    "            tweet_text.append(item)\n",
    "        tweet_text = list(set(tweet_text))\n",
    "        self.match = [s for s in tweet_text if pattern in s.lower()]\n",
    "        if bool(self.match)== False:    \n",
    "            print ('The pattern \"',pattern,'\" is not found in the corpus')\n",
    "            return []\n",
    "        else:       \n",
    "            return self.match       \n",
    "         "
   ]
  },
  {
   "cell_type": "code",
   "execution_count": 3,
   "metadata": {},
   "outputs": [],
   "source": [
    "# initiate a Corpus object\n",
    "mycorpus= Corpus(\"definitely\")"
   ]
  },
  {
   "cell_type": "code",
   "execution_count": 4,
   "metadata": {},
   "outputs": [
    {
     "name": "stdout",
     "output_type": "stream",
     "text": [
      "The size of the file is 244.18013286590576 MB.\n"
     ]
    }
   ],
   "source": [
    "# see the size of the corpus\n",
    "mycorpus.size()"
   ]
  },
  {
   "cell_type": "code",
   "execution_count": 5,
   "metadata": {},
   "outputs": [
    {
     "name": "stdout",
     "output_type": "stream",
     "text": [
      "Texts are loaded for your analysis. You can access texts using the attribute \"mytext\".\n"
     ]
    }
   ],
   "source": [
    "# get all the tweets in that corpus\n",
    "mycorpus.get_text()"
   ]
  },
  {
   "cell_type": "code",
   "execution_count": 6,
   "metadata": {},
   "outputs": [
    {
     "data": {
      "text/plain": [
       "['@Jamesmiltonray @verified @RealSpikeCohen @Jo4liberty @LPNational @LarrySharpe No they most definitely will not app… https://t.co/Ghi6waAyii',\n",
       " '@Aeduann_MaaHes 1 is definitely you',\n",
       " '💯 Definitely the case. Praying for all my \"babies\" who went home and IMMEDIATELY became essential workers. 💙🙏🏾 That… https://t.co/lk6Cbr3Yi0',\n",
       " \"Friends working in the same field as me: Your resume and CV are perfect, you'll definitely get hired!\\n\\nEVEN The HR… https://t.co/NsR4HXcQNb\",\n",
       " 'RT @LuvnwineMaureen: Geoffrey definitely isn’t worth all of that drama!    \\n\\nNone of this would’ve happened had he divulged his criminal hi…',\n",
       " '@upthebooks @JoshHo8 @soniachess @melodyMcooper As a professional accountant there was absolutely nothing independe… https://t.co/UNoMBcPnKB',\n",
       " 'RT @s41ah: This Mf was smiling, he definitely knew what was going to happen https://t.co/YbqEP1kqUb',\n",
       " 'Definitely had to slow down,',\n",
       " \"RT @TiisetsoMok_: There's definitely not gonna be any solution here and they're definitely not getting their money back. Including the cops…\",\n",
       " \"@dukelalley yeah same. it's super tragic but definitely a ballsy move. and i'm 100% on team bald ripley\"]"
      ]
     },
     "execution_count": 6,
     "metadata": {},
     "output_type": "execute_result"
    }
   ],
   "source": [
    "# print the first ten tweets in that corpus\n",
    "mycorpus.mytext[0:10]"
   ]
  },
  {
   "cell_type": "code",
   "execution_count": 7,
   "metadata": {},
   "outputs": [
    {
     "name": "stdout",
     "output_type": "stream",
     "text": [
      "The pattern \" Harvey \" is not found in the corpus\n"
     ]
    }
   ],
   "source": [
    "# search the tweets containing the word 'Harvey'\n",
    "my_pattern= mycorpus.search_pattern('Harvey')"
   ]
  },
  {
   "cell_type": "code",
   "execution_count": 8,
   "metadata": {},
   "outputs": [
    {
     "data": {
      "text/plain": [
       "[]"
      ]
     },
     "execution_count": 8,
     "metadata": {},
     "output_type": "execute_result"
    }
   ],
   "source": [
    "my_pattern"
   ]
  },
  {
   "cell_type": "code",
   "execution_count": 9,
   "metadata": {},
   "outputs": [],
   "source": [
    "# search the tweets containing the word 'python'\n",
    "my_pattern= mycorpus.search_pattern('python')"
   ]
  },
  {
   "cell_type": "code",
   "execution_count": 10,
   "metadata": {},
   "outputs": [
    {
     "data": {
      "text/plain": [
       "5"
      ]
     },
     "execution_count": 10,
     "metadata": {},
     "output_type": "execute_result"
    }
   ],
   "source": [
    "# calculate the number of tweets that containing the word 'python'\n",
    "len(my_pattern)"
   ]
  },
  {
   "cell_type": "code",
   "execution_count": 11,
   "metadata": {},
   "outputs": [
    {
     "data": {
      "text/plain": [
       "['@Ezra_Spence If you feel comfortable with Python and API basics, you could skip it, but it definitely would help to… https://t.co/sriVkiocQE',\n",
       " 'I am more interested in micropython than arduino. And definitely not interested in using firebase. via reddit\\n\\nI am… https://t.co/sGpY8cCrdk',\n",
       " 'RT @usgoose: @roy250swb @woonomic Most definitely Python, applicable in web data and financial engineering']"
      ]
     },
     "execution_count": 11,
     "metadata": {},
     "output_type": "execute_result"
    }
   ],
   "source": [
    "# print the first 3 tweets that contains the word 'python'\n",
    "my_pattern[0:3]"
   ]
  },
  {
   "cell_type": "markdown",
   "metadata": {},
   "source": [
    "#### Search for a list of patterns in the Corpus object"
   ]
  },
  {
   "cell_type": "code",
   "execution_count": 12,
   "metadata": {},
   "outputs": [
    {
     "name": "stdout",
     "output_type": "stream",
     "text": [
      "The pattern \" certainly must \" is not found in the corpus\n",
      "The pattern \" must certainly \" is not found in the corpus\n",
      "The pattern \" possibly may \" is not found in the corpus\n",
      "The pattern \" possibly might \" is not found in the corpus\n",
      "The pattern \" might possibly \" is not found in the corpus\n",
      "{'certainly must': 0, 'must certainly': 0, 'definitely must': 7, 'must definitely': 6, 'possibly may': 0, 'may possibly': 2, 'possibly might': 0, 'might possibly': 0, 'probably would': 6, 'would probably': 10}\n"
     ]
    }
   ],
   "source": [
    "# define a list of patterns\n",
    "pattern_list = ['certainly must','must certainly','definitely must','must definitely',\n",
    "              'possibly may','may possibly','possibly might','might possibly','probably would','would probably']\n",
    "\n",
    "# define an empty dictionary to store the searching result\n",
    "result={}\n",
    "for pattern in pattern_list:   \n",
    "    key = pattern\n",
    "    value =len(mycorpus.search_pattern(pattern))\n",
    "    my_dic = {key:value}\n",
    "    result.update(my_dic)\n",
    "print(result)  "
   ]
  },
  {
   "cell_type": "markdown",
   "metadata": {},
   "source": [
    "#### Loop through many Corpus objects to search for a list of patterns in each Corpus object"
   ]
  },
  {
   "cell_type": "code",
   "execution_count": 13,
   "metadata": {},
   "outputs": [
    {
     "name": "stdout",
     "output_type": "stream",
     "text": [
      "The pattern \" certainly must \" is not found in the corpus\n",
      "The pattern \" certainly must \" is not found in the corpus\n",
      "The pattern \" certainly must \" is not found in the corpus\n",
      "The pattern \" certainly must \" is not found in the corpus\n",
      "The pattern \" certainly must \" is not found in the corpus\n",
      "The pattern \" certainly must \" is not found in the corpus\n",
      "The pattern \" must certainly \" is not found in the corpus\n",
      "The pattern \" must certainly \" is not found in the corpus\n",
      "The pattern \" must certainly \" is not found in the corpus\n",
      "The pattern \" must certainly \" is not found in the corpus\n",
      "The pattern \" must certainly \" is not found in the corpus\n",
      "The pattern \" must certainly \" is not found in the corpus\n",
      "The pattern \" definitely must \" is not found in the corpus\n",
      "The pattern \" definitely must \" is not found in the corpus\n",
      "The pattern \" definitely must \" is not found in the corpus\n",
      "The pattern \" definitely must \" is not found in the corpus\n",
      "The pattern \" definitely must \" is not found in the corpus\n",
      "The pattern \" definitely must \" is not found in the corpus\n",
      "The pattern \" must definitely \" is not found in the corpus\n",
      "The pattern \" must definitely \" is not found in the corpus\n",
      "The pattern \" must definitely \" is not found in the corpus\n",
      "The pattern \" must definitely \" is not found in the corpus\n",
      "The pattern \" must definitely \" is not found in the corpus\n",
      "The pattern \" must definitely \" is not found in the corpus\n",
      "The pattern \" possibly may \" is not found in the corpus\n",
      "The pattern \" possibly may \" is not found in the corpus\n",
      "The pattern \" possibly may \" is not found in the corpus\n",
      "The pattern \" possibly may \" is not found in the corpus\n",
      "The pattern \" possibly may \" is not found in the corpus\n",
      "The pattern \" possibly may \" is not found in the corpus\n",
      "The pattern \" may possibly \" is not found in the corpus\n",
      "The pattern \" may possibly \" is not found in the corpus\n",
      "The pattern \" may possibly \" is not found in the corpus\n",
      "The pattern \" may possibly \" is not found in the corpus\n",
      "The pattern \" may possibly \" is not found in the corpus\n",
      "The pattern \" possibly might \" is not found in the corpus\n",
      "The pattern \" possibly might \" is not found in the corpus\n",
      "The pattern \" possibly might \" is not found in the corpus\n",
      "The pattern \" possibly might \" is not found in the corpus\n",
      "The pattern \" possibly might \" is not found in the corpus\n",
      "The pattern \" possibly might \" is not found in the corpus\n",
      "The pattern \" possibly might \" is not found in the corpus\n",
      "The pattern \" might possibly \" is not found in the corpus\n",
      "The pattern \" might possibly \" is not found in the corpus\n",
      "The pattern \" might possibly \" is not found in the corpus\n",
      "The pattern \" might possibly \" is not found in the corpus\n",
      "The pattern \" might possibly \" is not found in the corpus\n",
      "The pattern \" might possibly \" is not found in the corpus\n",
      "The pattern \" would probably \" is not found in the corpus\n",
      "The pattern \" would probably \" is not found in the corpus\n",
      "{'certainly must': 11, 'must certainly': 14, 'definitely must': 8, 'must definitely': 10, 'possibly may': 19, 'may possibly': 57, 'possibly might': 9, 'might possibly': 125, 'probably would': 748, 'would probably': 1128}\n"
     ]
    }
   ],
   "source": [
    "# define a list of keywords to initiate corpus objects\n",
    "keyword_list = ['definitely','might','must','would','possibly','probably','certainly','may']\n",
    "# define a list of patterns\n",
    "pattern_list = ['certainly must','must certainly','definitely must','must definitely',\n",
    "              'possibly may','may possibly','possibly might','might possibly','probably would','would probably']\n",
    "# define an empty dictionary to store the searching result\n",
    "result={}\n",
    "# for each pattern in the patten_list, find the pattern in all of the Corpus objects\n",
    "for pattern in pattern_list:\n",
    "    matchlist = []\n",
    "    for keyword in keyword_list:\n",
    "        mycorpus = Corpus(keyword)\n",
    "        matchlist= matchlist + mycorpus.search_pattern(pattern)\n",
    "    key = pattern\n",
    "    value = len (matchlist)\n",
    "    my_dic = {key:value}\n",
    "    result.update(my_dic)\n",
    "print (result)    \n",
    "        "
   ]
  },
  {
   "cell_type": "markdown",
   "metadata": {},
   "source": [
    "##### Comment: The above code allows me to search for a list of patterns in many Corpus objects, and summarize result for me. Theoretically speaking,\n",
    "##### I am able to accomplish what I have done in notebook '3_search_patterns.ipynb' by using Corpus objects as well. However, we can see from the code\n",
    "##### that it is inefficient to loop through a list of Corpus objects, the process of which takes much longer time. "
   ]
  },
  {
   "cell_type": "code",
   "execution_count": 14,
   "metadata": {},
   "outputs": [],
   "source": [
    "# This is the end of the term project. Thanks for your time!"
   ]
  },
  {
   "cell_type": "code",
   "execution_count": null,
   "metadata": {},
   "outputs": [],
   "source": []
  }
 ],
 "metadata": {
  "kernelspec": {
   "display_name": "Python 3",
   "language": "python",
   "name": "python3"
  },
  "language_info": {
   "codemirror_mode": {
    "name": "ipython",
    "version": 3
   },
   "file_extension": ".py",
   "mimetype": "text/x-python",
   "name": "python",
   "nbconvert_exporter": "python",
   "pygments_lexer": "ipython3",
   "version": "3.7.6"
  }
 },
 "nbformat": 4,
 "nbformat_minor": 4
}
